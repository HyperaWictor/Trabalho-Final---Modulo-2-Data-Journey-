{
 "cells": [
  {
   "cell_type": "markdown",
   "metadata": {},
   "source": [
    "# Geral\n",
    "* Principios ativos mais vendidos do pais (5 mais vendidos)\n",
    "* Principios ativos mais vendidos por estado. (5 mais vendidos por estado)\n",
    "* Principios ativos mais vendidos por faixa etaria. Compradores de 20 a 30, 31 a 40, 41 a 50.. (5 mais vendidos por faixa etária)\n",
    "\n",
    "# Especificos\n",
    "\n",
    "* Municipios que mais vende medicamentos em cada estado e quais os medicamentos mais vendidos nesses estados (5 mais vendidos)).\n",
    "* Principios ativos mais vendidos por faixa etaria nessas municipios. Compradores de 20 a 30, 31 a 40, 41 a 50.. (5 mais vendidos por faixa etária)\n"
   ]
  },
  {
   "cell_type": "markdown",
   "metadata": {},
   "source": [
    "- farmacos: DF TOTAL\n",
    "- df : filtro a ser utilizado\n",
    "- qtd_vendida_idade : filtrado com a soma das qtd vendidas\n",
    "- qtd_vendida : filtrado sem idade"
   ]
  },
  {
   "cell_type": "markdown",
   "metadata": {},
   "source": []
  }
 ],
 "metadata": {
  "interpreter": {
   "hash": "b3ba2566441a7c06988d0923437866b63cedc61552a5af99d1f4fb67d367b25f"
  },
  "kernelspec": {
   "display_name": "Python 3.9.16 ('base')",
   "language": "python",
   "name": "python3"
  },
  "language_info": {
   "name": "python",
   "version": "3.9.16"
  },
  "orig_nbformat": 4
 },
 "nbformat": 4,
 "nbformat_minor": 2
}
