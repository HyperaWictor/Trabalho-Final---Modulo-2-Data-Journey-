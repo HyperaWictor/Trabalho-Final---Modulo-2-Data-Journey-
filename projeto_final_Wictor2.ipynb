{
 "cells": [
  {
   "cell_type": "markdown",
   "metadata": {},
   "source": [
    "# Geral\n",
    "* Principios ativos mais vendidos do pais (5 mais vendidos)\n",
    "* Principios ativos mais vendidos por estado. (5 mais vendidos por estado)\n",
    "* Principios ativos mais vendidos por faixa etaria. Compradores de 20 a 30, 31 a 40, 41 a 50.. (5 mais vendidos por faixa etária)\n",
    "* Quantidade vendida / habitante\n",
    "\n",
    "# Especificos\n",
    "\n",
    "* Municipios que mais vende medicamentos em cada estado e quais os medicamentos mais vendidos nesses estados (5 mais vendidos)).\n",
    "* Principios ativos mais vendidos por faixa etaria nessas municipios. Compradores de 20 a 30, 31 a 40, 41 a 50.. (5 mais vendidos por faixa etária)\n"
   ]
  },
  {
   "cell_type": "markdown",
   "metadata": {},
   "source": [
    "# - Municipios que mais vende medicamentos por Estado"
   ]
  },
  {
   "cell_type": "code",
   "execution_count": 1,
   "metadata": {},
   "outputs": [],
   "source": [
    "#---Importando as bibliotecas Numpy e Pandas---#\n",
    "import numpy as np \n",
    "import pandas as pd"
   ]
  },
  {
   "cell_type": "code",
   "execution_count": 2,
   "metadata": {},
   "outputs": [],
   "source": [
    "#Carregando a base de dados original, extraída: https://dados.gov.br/dados/conjuntos-dados/venda-de-medicamentos-controlados-e-antimicrobianos---medicamentos-industrializados\n",
    "   # Medicamentos Controlados e Antimicrobiano # \n",
    "\n",
    "medicamentos = pd.read_csv('EDA_Industrializados_202110.csv', sep =\";\", encoding=\"latin1\")\n"
   ]
  },
  {
   "cell_type": "code",
   "execution_count": 3,
   "metadata": {},
   "outputs": [],
   "source": [
    "#---Filtrando as colunas com as informações para responder a pergunta formulada---#\n",
    "df = medicamentos.filter([\"UF_VENDA\", \"MUNICIPIO_VENDA\", \"PRINCIPIO_ATIVO\", \"QTD_VENDIDA\", \"IDADE\"])"
   ]
  },
  {
   "cell_type": "code",
   "execution_count": 4,
   "metadata": {},
   "outputs": [],
   "source": [
    "#---Sumarizando a quantidade vendida, utilzando a chave UF e Municipio---#\n",
    "df2 = df.groupby([\"UF_VENDA\",\"MUNICIPIO_VENDA\"])[\"QTD_VENDIDA\"].sum().reset_index()"
   ]
  },
  {
   "cell_type": "code",
   "execution_count": 5,
   "metadata": {},
   "outputs": [],
   "source": [
    "#---Gerando um ndarray com os UFs únicos---#\n",
    "capitais = df2[\"UF_VENDA\"].unique()"
   ]
  },
  {
   "cell_type": "code",
   "execution_count": 6,
   "metadata": {},
   "outputs": [],
   "source": [
    "#---Gerando um df com os municipios que mais vende por estado\n",
    "maior_venda_municipio = pd.DataFrame() \n",
    "# Percorrendo o data frame df2 através das UFs armazenadas em \"capitais\" para filtrar o maior valor vendido\n",
    "for i in capitais: \n",
    "    df3 = df2[df2[\"UF_VENDA\"] == i]\n",
    "    df4 = df3.sort_values(by=\"QTD_VENDIDA\", ascending=False).head(1) \n",
    "    maior_venda_municipio = pd.concat([df4,maior_venda_municipio])"
   ]
  },
  {
   "cell_type": "code",
   "execution_count": 7,
   "metadata": {},
   "outputs": [
    {
     "data": {
      "text/html": [
       "<div>\n",
       "<style scoped>\n",
       "    .dataframe tbody tr th:only-of-type {\n",
       "        vertical-align: middle;\n",
       "    }\n",
       "\n",
       "    .dataframe tbody tr th {\n",
       "        vertical-align: top;\n",
       "    }\n",
       "\n",
       "    .dataframe thead th {\n",
       "        text-align: right;\n",
       "    }\n",
       "</style>\n",
       "<table border=\"1\" class=\"dataframe\">\n",
       "  <thead>\n",
       "    <tr style=\"text-align: right;\">\n",
       "      <th></th>\n",
       "      <th>UF_VENDA</th>\n",
       "      <th>MUNICIPIO_VENDA</th>\n",
       "      <th>QTD_VENDIDA</th>\n",
       "    </tr>\n",
       "  </thead>\n",
       "  <tbody>\n",
       "    <tr>\n",
       "      <th>4839</th>\n",
       "      <td>SP</td>\n",
       "      <td>SÃO PAULO</td>\n",
       "      <td>2109512</td>\n",
       "    </tr>\n",
       "    <tr>\n",
       "      <th>3898</th>\n",
       "      <td>RS</td>\n",
       "      <td>TUPANCIRETÃ</td>\n",
       "      <td>1445626</td>\n",
       "    </tr>\n",
       "    <tr>\n",
       "      <th>675</th>\n",
       "      <td>DF</td>\n",
       "      <td>BRASÍLIA</td>\n",
       "      <td>1111312</td>\n",
       "    </tr>\n",
       "    <tr>\n",
       "      <th>3217</th>\n",
       "      <td>RJ</td>\n",
       "      <td>RIO DE JANEIRO</td>\n",
       "      <td>933949</td>\n",
       "    </tr>\n",
       "    <tr>\n",
       "      <th>4096</th>\n",
       "      <td>SC</td>\n",
       "      <td>NOVA VENEZA</td>\n",
       "      <td>638058</td>\n",
       "    </tr>\n",
       "  </tbody>\n",
       "</table>\n",
       "</div>"
      ],
      "text/plain": [
       "     UF_VENDA MUNICIPIO_VENDA  QTD_VENDIDA\n",
       "4839       SP       SÃO PAULO      2109512\n",
       "3898       RS     TUPANCIRETÃ      1445626\n",
       "675        DF        BRASÍLIA      1111312\n",
       "3217       RJ  RIO DE JANEIRO       933949\n",
       "4096       SC     NOVA VENEZA       638058"
      ]
     },
     "execution_count": 7,
     "metadata": {},
     "output_type": "execute_result"
    }
   ],
   "source": [
    "#---Ordenamos e selecionamos os 5 maiores municipios que venderam medicamentos por Estado\n",
    "maior_venda_municipio.sort_values(by=\"QTD_VENDIDA\", ascending=False).head(5)"
   ]
  },
  {
   "cell_type": "markdown",
   "metadata": {},
   "source": [
    "# - Agora, medicamentos mais vendidos para esses estados"
   ]
  },
  {
   "cell_type": "code",
   "execution_count": 18,
   "metadata": {},
   "outputs": [],
   "source": [
    "df5 = maior_venda_municipio.sort_values(by=\"QTD_VENDIDA\", ascending=False).head(5).reset_index()\n",
    "top_capitais = df5[\"UF_VENDA\"] \n"
   ]
  },
  {
   "cell_type": "code",
   "execution_count": 12,
   "metadata": {},
   "outputs": [],
   "source": [
    "#---Sumarizando a quantidade vendida, utilzando a chave UF e Principio Ativo---#\n",
    "df6= df.groupby([\"UF_VENDA\",\"PRINCIPIO_ATIVO\"])[\"QTD_VENDIDA\"].sum().reset_index() \n"
   ]
  },
  {
   "cell_type": "code",
   "execution_count": 13,
   "metadata": {},
   "outputs": [],
   "source": [
    "#---Gerando um df com os principio ativos que mais vende por estado\n",
    "maior_venda_principio = pd.DataFrame() \n",
    "# Percorrendo o data frame df2 através das UFs armazenadas em \"capitais\" para filtrar o maior valor vendido\n",
    "for i in top_capitais: \n",
    "    df3 = df6[df6[\"UF_VENDA\"] == i]\n",
    "    df4 = df3.sort_values(by=\"QTD_VENDIDA\", ascending=False).head(1) \n",
    "    maior_venda_principio = pd.concat([df4,maior_venda_principio])"
   ]
  },
  {
   "cell_type": "code",
   "execution_count": 16,
   "metadata": {},
   "outputs": [
    {
     "data": {
      "text/html": [
       "<div>\n",
       "<style scoped>\n",
       "    .dataframe tbody tr th:only-of-type {\n",
       "        vertical-align: middle;\n",
       "    }\n",
       "\n",
       "    .dataframe tbody tr th {\n",
       "        vertical-align: top;\n",
       "    }\n",
       "\n",
       "    .dataframe thead th {\n",
       "        text-align: right;\n",
       "    }\n",
       "</style>\n",
       "<table border=\"1\" class=\"dataframe\">\n",
       "  <thead>\n",
       "    <tr style=\"text-align: right;\">\n",
       "      <th></th>\n",
       "      <th>UF_VENDA</th>\n",
       "      <th>PRINCIPIO_ATIVO</th>\n",
       "      <th>QTD_VENDIDA</th>\n",
       "    </tr>\n",
       "  </thead>\n",
       "  <tbody>\n",
       "    <tr>\n",
       "      <th>6866</th>\n",
       "      <td>RS</td>\n",
       "      <td>HEMIFUMARATO DE QUETIAPINA</td>\n",
       "      <td>1520140</td>\n",
       "    </tr>\n",
       "    <tr>\n",
       "      <th>7817</th>\n",
       "      <td>SP</td>\n",
       "      <td>DECANOATO DE NANDROLONA</td>\n",
       "      <td>731319</td>\n",
       "    </tr>\n",
       "    <tr>\n",
       "      <th>1668</th>\n",
       "      <td>DF</td>\n",
       "      <td>CARBONATO DE LÍTIO</td>\n",
       "      <td>724357</td>\n",
       "    </tr>\n",
       "    <tr>\n",
       "      <th>7296</th>\n",
       "      <td>SC</td>\n",
       "      <td>UNDECILATO DE TESTOSTERONA</td>\n",
       "      <td>637521</td>\n",
       "    </tr>\n",
       "    <tr>\n",
       "      <th>5652</th>\n",
       "      <td>RJ</td>\n",
       "      <td>CLONAZEPAM</td>\n",
       "      <td>193386</td>\n",
       "    </tr>\n",
       "  </tbody>\n",
       "</table>\n",
       "</div>"
      ],
      "text/plain": [
       "     UF_VENDA             PRINCIPIO_ATIVO  QTD_VENDIDA\n",
       "6866       RS  HEMIFUMARATO DE QUETIAPINA      1520140\n",
       "7817       SP     DECANOATO DE NANDROLONA       731319\n",
       "1668       DF          CARBONATO DE LÍTIO       724357\n",
       "7296       SC  UNDECILATO DE TESTOSTERONA       637521\n",
       "5652       RJ                  CLONAZEPAM       193386"
      ]
     },
     "execution_count": 16,
     "metadata": {},
     "output_type": "execute_result"
    }
   ],
   "source": [
    "maior_venda_principio.sort_values(by=\"QTD_VENDIDA\", ascending=False)"
   ]
  },
  {
   "cell_type": "code",
   "execution_count": null,
   "metadata": {},
   "outputs": [],
   "source": []
  }
 ],
 "metadata": {
  "kernelspec": {
   "display_name": "Python 3",
   "language": "python",
   "name": "python3"
  },
  "language_info": {
   "codemirror_mode": {
    "name": "ipython",
    "version": 3
   },
   "file_extension": ".py",
   "mimetype": "text/x-python",
   "name": "python",
   "nbconvert_exporter": "python",
   "pygments_lexer": "ipython3",
   "version": "3.9.12"
  },
  "orig_nbformat": 4
 },
 "nbformat": 4,
 "nbformat_minor": 2
}
