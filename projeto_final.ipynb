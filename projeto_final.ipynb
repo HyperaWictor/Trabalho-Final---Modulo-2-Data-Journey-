{
 "cells": [
  {
   "cell_type": "code",
   "execution_count": 1,
   "metadata": {},
   "outputs": [],
   "source": [
    "import numpy as np\n",
    "import pandas as pd"
   ]
  },
  {
   "cell_type": "markdown",
   "metadata": {},
   "source": [
    "# Geral\n",
    "* Principios ativos mais vendidos do pais (5 mais vendidos)\n",
    "* Principios ativos mais vendidos por estado. (5 mais vendidos por estado)\n",
    "* Principios ativos mais vendidos por faixa etaria. Compradores de 20 a 30, 31 a 40, 41 a 50.. (5 mais vendidos por faixa etária)\n",
    "\n",
    "# Especificos\n",
    "\n",
    "* Municipios que mais vende medicamentos em cada estado e quais os medicamentos mais vendidos nesses estados (5 mais vendidos)).\n",
    "* Principios ativos mais vendidos por faixa etaria nessas municipios. Compradores de 20 a 30, 31 a 40, 41 a 50.. (5 mais vendidos por faixa etária)\n"
   ]
  },
  {
   "cell_type": "code",
   "execution_count": 2,
   "metadata": {},
   "outputs": [],
   "source": [
    "farmacos = pd.read_csv(\"EDA_Industrializados_202110.csv\", sep=\";\", encoding=\"latin1\")"
   ]
  },
  {
   "cell_type": "code",
   "execution_count": 3,
   "metadata": {},
   "outputs": [
    {
     "data": {
      "text/html": [
       "<div>\n",
       "<style scoped>\n",
       "    .dataframe tbody tr th:only-of-type {\n",
       "        vertical-align: middle;\n",
       "    }\n",
       "\n",
       "    .dataframe tbody tr th {\n",
       "        vertical-align: top;\n",
       "    }\n",
       "\n",
       "    .dataframe thead th {\n",
       "        text-align: right;\n",
       "    }\n",
       "</style>\n",
       "<table border=\"1\" class=\"dataframe\">\n",
       "  <thead>\n",
       "    <tr style=\"text-align: right;\">\n",
       "      <th></th>\n",
       "      <th>ANO_VENDA</th>\n",
       "      <th>MES_VENDA</th>\n",
       "      <th>UF_VENDA</th>\n",
       "      <th>MUNICIPIO_VENDA</th>\n",
       "      <th>PRINCIPIO_ATIVO</th>\n",
       "      <th>DESCRICAO_APRESENTACAO</th>\n",
       "      <th>QTD_VENDIDA</th>\n",
       "      <th>UNIDADE_MEDIDA</th>\n",
       "      <th>CONSELHO_PRESCRITOR</th>\n",
       "      <th>UF_CONSELHO_PRESCRITOR</th>\n",
       "      <th>TIPO_RECEITUARIO</th>\n",
       "      <th>CID10</th>\n",
       "      <th>SEXO</th>\n",
       "      <th>IDADE</th>\n",
       "      <th>UNIDADE_IDADE</th>\n",
       "    </tr>\n",
       "  </thead>\n",
       "  <tbody>\n",
       "    <tr>\n",
       "      <th>0</th>\n",
       "      <td>2021</td>\n",
       "      <td>10</td>\n",
       "      <td>SP</td>\n",
       "      <td>IGARAÇU DO TIETÊ</td>\n",
       "      <td>CELECOXIBE</td>\n",
       "      <td>200 MG CAP DURA CT BL AL PLAS PVC/PCTFE TRANS ...</td>\n",
       "      <td>14</td>\n",
       "      <td>CAIXA</td>\n",
       "      <td>CRM</td>\n",
       "      <td>SP</td>\n",
       "      <td>1.0</td>\n",
       "      <td>NaN</td>\n",
       "      <td>NaN</td>\n",
       "      <td>NaN</td>\n",
       "      <td>NaN</td>\n",
       "    </tr>\n",
       "    <tr>\n",
       "      <th>1</th>\n",
       "      <td>2021</td>\n",
       "      <td>10</td>\n",
       "      <td>SP</td>\n",
       "      <td>IGARAÇU DO TIETÊ</td>\n",
       "      <td>CELECOXIBE</td>\n",
       "      <td>200 MG CAP DURA CT BL AL PLAS PVC/PCTFE TRANS ...</td>\n",
       "      <td>1</td>\n",
       "      <td>CAIXA</td>\n",
       "      <td>CRM</td>\n",
       "      <td>SP</td>\n",
       "      <td>5.0</td>\n",
       "      <td>NaN</td>\n",
       "      <td>1.0</td>\n",
       "      <td>56.0</td>\n",
       "      <td>1.0</td>\n",
       "    </tr>\n",
       "  </tbody>\n",
       "</table>\n",
       "</div>"
      ],
      "text/plain": [
       "   ANO_VENDA  MES_VENDA UF_VENDA   MUNICIPIO_VENDA PRINCIPIO_ATIVO  \\\n",
       "0       2021         10       SP  IGARAÇU DO TIETÊ      CELECOXIBE   \n",
       "1       2021         10       SP  IGARAÇU DO TIETÊ      CELECOXIBE   \n",
       "\n",
       "                              DESCRICAO_APRESENTACAO  QTD_VENDIDA  \\\n",
       "0  200 MG CAP DURA CT BL AL PLAS PVC/PCTFE TRANS ...           14   \n",
       "1  200 MG CAP DURA CT BL AL PLAS PVC/PCTFE TRANS ...            1   \n",
       "\n",
       "  UNIDADE_MEDIDA CONSELHO_PRESCRITOR UF_CONSELHO_PRESCRITOR  TIPO_RECEITUARIO  \\\n",
       "0          CAIXA                 CRM                     SP               1.0   \n",
       "1          CAIXA                 CRM                     SP               5.0   \n",
       "\n",
       "  CID10  SEXO  IDADE  UNIDADE_IDADE  \n",
       "0   NaN   NaN    NaN            NaN  \n",
       "1   NaN   1.0   56.0            1.0  "
      ]
     },
     "execution_count": 3,
     "metadata": {},
     "output_type": "execute_result"
    }
   ],
   "source": [
    "farmacos.head(2)"
   ]
  },
  {
   "cell_type": "code",
   "execution_count": 4,
   "metadata": {},
   "outputs": [
    {
     "data": {
      "text/html": [
       "<div>\n",
       "<style scoped>\n",
       "    .dataframe tbody tr th:only-of-type {\n",
       "        vertical-align: middle;\n",
       "    }\n",
       "\n",
       "    .dataframe tbody tr th {\n",
       "        vertical-align: top;\n",
       "    }\n",
       "\n",
       "    .dataframe thead th {\n",
       "        text-align: right;\n",
       "    }\n",
       "</style>\n",
       "<table border=\"1\" class=\"dataframe\">\n",
       "  <thead>\n",
       "    <tr style=\"text-align: right;\">\n",
       "      <th></th>\n",
       "      <th>ANO_VENDA</th>\n",
       "      <th>MES_VENDA</th>\n",
       "      <th>QTD_VENDIDA</th>\n",
       "      <th>TIPO_RECEITUARIO</th>\n",
       "      <th>SEXO</th>\n",
       "      <th>IDADE</th>\n",
       "      <th>UNIDADE_IDADE</th>\n",
       "    </tr>\n",
       "  </thead>\n",
       "  <tbody>\n",
       "    <tr>\n",
       "      <th>count</th>\n",
       "      <td>5989708.0</td>\n",
       "      <td>5989708.0</td>\n",
       "      <td>5.989708e+06</td>\n",
       "      <td>5.989708e+06</td>\n",
       "      <td>4.285276e+06</td>\n",
       "      <td>4.285276e+06</td>\n",
       "      <td>4.285276e+06</td>\n",
       "    </tr>\n",
       "    <tr>\n",
       "      <th>mean</th>\n",
       "      <td>2021.0</td>\n",
       "      <td>10.0</td>\n",
       "      <td>5.534829e+00</td>\n",
       "      <td>3.624664e+00</td>\n",
       "      <td>1.554298e+00</td>\n",
       "      <td>4.139040e+01</td>\n",
       "      <td>1.016557e+00</td>\n",
       "    </tr>\n",
       "    <tr>\n",
       "      <th>std</th>\n",
       "      <td>0.0</td>\n",
       "      <td>0.0</td>\n",
       "      <td>8.941821e+02</td>\n",
       "      <td>1.821485e+00</td>\n",
       "      <td>4.970430e-01</td>\n",
       "      <td>3.785119e+01</td>\n",
       "      <td>1.276041e-01</td>\n",
       "    </tr>\n",
       "    <tr>\n",
       "      <th>min</th>\n",
       "      <td>2021.0</td>\n",
       "      <td>10.0</td>\n",
       "      <td>1.000000e+00</td>\n",
       "      <td>1.000000e+00</td>\n",
       "      <td>1.000000e+00</td>\n",
       "      <td>0.000000e+00</td>\n",
       "      <td>1.000000e+00</td>\n",
       "    </tr>\n",
       "    <tr>\n",
       "      <th>25%</th>\n",
       "      <td>2021.0</td>\n",
       "      <td>10.0</td>\n",
       "      <td>1.000000e+00</td>\n",
       "      <td>1.000000e+00</td>\n",
       "      <td>1.000000e+00</td>\n",
       "      <td>2.500000e+01</td>\n",
       "      <td>1.000000e+00</td>\n",
       "    </tr>\n",
       "    <tr>\n",
       "      <th>50%</th>\n",
       "      <td>2021.0</td>\n",
       "      <td>10.0</td>\n",
       "      <td>1.000000e+00</td>\n",
       "      <td>5.000000e+00</td>\n",
       "      <td>2.000000e+00</td>\n",
       "      <td>3.900000e+01</td>\n",
       "      <td>1.000000e+00</td>\n",
       "    </tr>\n",
       "    <tr>\n",
       "      <th>75%</th>\n",
       "      <td>2021.0</td>\n",
       "      <td>10.0</td>\n",
       "      <td>3.000000e+00</td>\n",
       "      <td>5.000000e+00</td>\n",
       "      <td>2.000000e+00</td>\n",
       "      <td>5.600000e+01</td>\n",
       "      <td>1.000000e+00</td>\n",
       "    </tr>\n",
       "    <tr>\n",
       "      <th>max</th>\n",
       "      <td>2021.0</td>\n",
       "      <td>10.0</td>\n",
       "      <td>1.440897e+06</td>\n",
       "      <td>5.000000e+00</td>\n",
       "      <td>2.000000e+00</td>\n",
       "      <td>9.990000e+02</td>\n",
       "      <td>2.000000e+00</td>\n",
       "    </tr>\n",
       "  </tbody>\n",
       "</table>\n",
       "</div>"
      ],
      "text/plain": [
       "       ANO_VENDA  MES_VENDA   QTD_VENDIDA  TIPO_RECEITUARIO          SEXO  \\\n",
       "count  5989708.0  5989708.0  5.989708e+06      5.989708e+06  4.285276e+06   \n",
       "mean      2021.0       10.0  5.534829e+00      3.624664e+00  1.554298e+00   \n",
       "std          0.0        0.0  8.941821e+02      1.821485e+00  4.970430e-01   \n",
       "min       2021.0       10.0  1.000000e+00      1.000000e+00  1.000000e+00   \n",
       "25%       2021.0       10.0  1.000000e+00      1.000000e+00  1.000000e+00   \n",
       "50%       2021.0       10.0  1.000000e+00      5.000000e+00  2.000000e+00   \n",
       "75%       2021.0       10.0  3.000000e+00      5.000000e+00  2.000000e+00   \n",
       "max       2021.0       10.0  1.440897e+06      5.000000e+00  2.000000e+00   \n",
       "\n",
       "              IDADE  UNIDADE_IDADE  \n",
       "count  4.285276e+06   4.285276e+06  \n",
       "mean   4.139040e+01   1.016557e+00  \n",
       "std    3.785119e+01   1.276041e-01  \n",
       "min    0.000000e+00   1.000000e+00  \n",
       "25%    2.500000e+01   1.000000e+00  \n",
       "50%    3.900000e+01   1.000000e+00  \n",
       "75%    5.600000e+01   1.000000e+00  \n",
       "max    9.990000e+02   2.000000e+00  "
      ]
     },
     "execution_count": 4,
     "metadata": {},
     "output_type": "execute_result"
    }
   ],
   "source": [
    "farmacos.describe()"
   ]
  },
  {
   "cell_type": "code",
   "execution_count": 4,
   "metadata": {},
   "outputs": [],
   "source": [
    "filtro_1 = farmacos.filter([\"UF_VENDA\", \"MUNICIPIO_VENDA\", \"PRINCIPIO_ATIVO\", \"QTD_VENDIDA\", \"IDADE\"])"
   ]
  },
  {
   "cell_type": "code",
   "execution_count": 6,
   "metadata": {},
   "outputs": [
    {
     "data": {
      "text/html": [
       "<div>\n",
       "<style scoped>\n",
       "    .dataframe tbody tr th:only-of-type {\n",
       "        vertical-align: middle;\n",
       "    }\n",
       "\n",
       "    .dataframe tbody tr th {\n",
       "        vertical-align: top;\n",
       "    }\n",
       "\n",
       "    .dataframe thead th {\n",
       "        text-align: right;\n",
       "    }\n",
       "</style>\n",
       "<table border=\"1\" class=\"dataframe\">\n",
       "  <thead>\n",
       "    <tr style=\"text-align: right;\">\n",
       "      <th></th>\n",
       "      <th>UF_VENDA</th>\n",
       "      <th>MUNICIPIO_VENDA</th>\n",
       "      <th>PRINCIPIO_ATIVO</th>\n",
       "      <th>QTD_VENDIDA</th>\n",
       "      <th>IDADE</th>\n",
       "    </tr>\n",
       "  </thead>\n",
       "  <tbody>\n",
       "    <tr>\n",
       "      <th>0</th>\n",
       "      <td>SP</td>\n",
       "      <td>IGARAÇU DO TIETÊ</td>\n",
       "      <td>CELECOXIBE</td>\n",
       "      <td>14</td>\n",
       "      <td>NaN</td>\n",
       "    </tr>\n",
       "    <tr>\n",
       "      <th>1</th>\n",
       "      <td>SP</td>\n",
       "      <td>IGARAÇU DO TIETÊ</td>\n",
       "      <td>CELECOXIBE</td>\n",
       "      <td>1</td>\n",
       "      <td>56.0</td>\n",
       "    </tr>\n",
       "    <tr>\n",
       "      <th>2</th>\n",
       "      <td>SP</td>\n",
       "      <td>IGARAÇU DO TIETÊ</td>\n",
       "      <td>CELECOXIBE</td>\n",
       "      <td>3</td>\n",
       "      <td>NaN</td>\n",
       "    </tr>\n",
       "    <tr>\n",
       "      <th>3</th>\n",
       "      <td>SP</td>\n",
       "      <td>IGARAÇU DO TIETÊ</td>\n",
       "      <td>CELECOXIBE</td>\n",
       "      <td>1</td>\n",
       "      <td>NaN</td>\n",
       "    </tr>\n",
       "    <tr>\n",
       "      <th>4</th>\n",
       "      <td>SP</td>\n",
       "      <td>IGARAÇU DO TIETÊ</td>\n",
       "      <td>CELECOXIBE</td>\n",
       "      <td>3</td>\n",
       "      <td>NaN</td>\n",
       "    </tr>\n",
       "  </tbody>\n",
       "</table>\n",
       "</div>"
      ],
      "text/plain": [
       "  UF_VENDA   MUNICIPIO_VENDA PRINCIPIO_ATIVO  QTD_VENDIDA  IDADE\n",
       "0       SP  IGARAÇU DO TIETÊ      CELECOXIBE           14    NaN\n",
       "1       SP  IGARAÇU DO TIETÊ      CELECOXIBE            1   56.0\n",
       "2       SP  IGARAÇU DO TIETÊ      CELECOXIBE            3    NaN\n",
       "3       SP  IGARAÇU DO TIETÊ      CELECOXIBE            1    NaN\n",
       "4       SP  IGARAÇU DO TIETÊ      CELECOXIBE            3    NaN"
      ]
     },
     "execution_count": 6,
     "metadata": {},
     "output_type": "execute_result"
    }
   ],
   "source": [
    "filtro_1.head(5)"
   ]
  },
  {
   "cell_type": "code",
   "execution_count": 20,
   "metadata": {},
   "outputs": [],
   "source": [
    "juncao_1 = filtro_1.groupby([\"UF_VENDA\", \"MUNICIPIO_VENDA\", \"PRINCIPIO_ATIVO\"])[\"QTD_VENDIDA\"].sum()"
   ]
  },
  {
   "cell_type": "code",
   "execution_count": 21,
   "metadata": {},
   "outputs": [
    {
     "data": {
      "text/plain": [
       "UF_VENDA  MUNICIPIO_VENDA  PRINCIPIO_ATIVO                                                                \n",
       "AC        ACRELÂNDIA       ALPRAZOLAM                                                                          7\n",
       "                           AMOXICILINA                                                                        41\n",
       "                           AMOXICILINA + CLAVULANATO DE POTÁSSIO                                              29\n",
       "                           AMOXICILINA TRI-HIDRATADA                                                          19\n",
       "                           AMOXICILINA TRI-HIDRATADA + CLARITROMICINA + ESOMEPRAZOL MAGNÉSICO DI-HIDRATADO     2\n",
       "                                                                                                              ..\n",
       "TO        XAMBIOÁ          SUCCINATO DE DESVENLAFAXINA MONOIDRATADO                                            4\n",
       "                           SULFADIAZINA DE PRATA                                                               1\n",
       "                           SULFAMETOXAZOL + TRIMETOPRIMA                                                      12\n",
       "                           TOBRAMICINA                                                                         4\n",
       "                           ÁCIDO VALPRÓICO + VALPROATO DE SÓDIO                                                3\n",
       "Name: QTD_VENDIDA, Length: 502366, dtype: int64"
      ]
     },
     "execution_count": 21,
     "metadata": {},
     "output_type": "execute_result"
    }
   ],
   "source": [
    "juncao_1"
   ]
  },
  {
   "cell_type": "code",
   "execution_count": 19,
   "metadata": {},
   "outputs": [],
   "source": [
    "juncao_1 = filtro_1.groupby([\"UF_VENDA\", \"MUNICIPIO_VENDA\", \"PRINCIPIO_ATIVO\"]).sum()"
   ]
  },
  {
   "cell_type": "code",
   "execution_count": 22,
   "metadata": {},
   "outputs": [],
   "source": [
    "juncao_1 = juncao_1.reset_index()"
   ]
  },
  {
   "cell_type": "code",
   "execution_count": 23,
   "metadata": {},
   "outputs": [
    {
     "data": {
      "text/html": [
       "<div>\n",
       "<style scoped>\n",
       "    .dataframe tbody tr th:only-of-type {\n",
       "        vertical-align: middle;\n",
       "    }\n",
       "\n",
       "    .dataframe tbody tr th {\n",
       "        vertical-align: top;\n",
       "    }\n",
       "\n",
       "    .dataframe thead th {\n",
       "        text-align: right;\n",
       "    }\n",
       "</style>\n",
       "<table border=\"1\" class=\"dataframe\">\n",
       "  <thead>\n",
       "    <tr style=\"text-align: right;\">\n",
       "      <th></th>\n",
       "      <th>UF_VENDA</th>\n",
       "      <th>MUNICIPIO_VENDA</th>\n",
       "      <th>PRINCIPIO_ATIVO</th>\n",
       "      <th>QTD_VENDIDA</th>\n",
       "    </tr>\n",
       "  </thead>\n",
       "  <tbody>\n",
       "    <tr>\n",
       "      <th>0</th>\n",
       "      <td>AC</td>\n",
       "      <td>ACRELÂNDIA</td>\n",
       "      <td>ALPRAZOLAM</td>\n",
       "      <td>7</td>\n",
       "    </tr>\n",
       "    <tr>\n",
       "      <th>1</th>\n",
       "      <td>AC</td>\n",
       "      <td>ACRELÂNDIA</td>\n",
       "      <td>AMOXICILINA</td>\n",
       "      <td>41</td>\n",
       "    </tr>\n",
       "    <tr>\n",
       "      <th>2</th>\n",
       "      <td>AC</td>\n",
       "      <td>ACRELÂNDIA</td>\n",
       "      <td>AMOXICILINA + CLAVULANATO DE POTÁSSIO</td>\n",
       "      <td>29</td>\n",
       "    </tr>\n",
       "    <tr>\n",
       "      <th>3</th>\n",
       "      <td>AC</td>\n",
       "      <td>ACRELÂNDIA</td>\n",
       "      <td>AMOXICILINA TRI-HIDRATADA</td>\n",
       "      <td>19</td>\n",
       "    </tr>\n",
       "    <tr>\n",
       "      <th>4</th>\n",
       "      <td>AC</td>\n",
       "      <td>ACRELÂNDIA</td>\n",
       "      <td>AMOXICILINA TRI-HIDRATADA + CLARITROMICINA + E...</td>\n",
       "      <td>2</td>\n",
       "    </tr>\n",
       "    <tr>\n",
       "      <th>...</th>\n",
       "      <td>...</td>\n",
       "      <td>...</td>\n",
       "      <td>...</td>\n",
       "      <td>...</td>\n",
       "    </tr>\n",
       "    <tr>\n",
       "      <th>502361</th>\n",
       "      <td>TO</td>\n",
       "      <td>XAMBIOÁ</td>\n",
       "      <td>SUCCINATO DE DESVENLAFAXINA MONOIDRATADO</td>\n",
       "      <td>4</td>\n",
       "    </tr>\n",
       "    <tr>\n",
       "      <th>502362</th>\n",
       "      <td>TO</td>\n",
       "      <td>XAMBIOÁ</td>\n",
       "      <td>SULFADIAZINA DE PRATA</td>\n",
       "      <td>1</td>\n",
       "    </tr>\n",
       "    <tr>\n",
       "      <th>502363</th>\n",
       "      <td>TO</td>\n",
       "      <td>XAMBIOÁ</td>\n",
       "      <td>SULFAMETOXAZOL + TRIMETOPRIMA</td>\n",
       "      <td>12</td>\n",
       "    </tr>\n",
       "    <tr>\n",
       "      <th>502364</th>\n",
       "      <td>TO</td>\n",
       "      <td>XAMBIOÁ</td>\n",
       "      <td>TOBRAMICINA</td>\n",
       "      <td>4</td>\n",
       "    </tr>\n",
       "    <tr>\n",
       "      <th>502365</th>\n",
       "      <td>TO</td>\n",
       "      <td>XAMBIOÁ</td>\n",
       "      <td>ÁCIDO VALPRÓICO + VALPROATO DE SÓDIO</td>\n",
       "      <td>3</td>\n",
       "    </tr>\n",
       "  </tbody>\n",
       "</table>\n",
       "<p>502366 rows × 4 columns</p>\n",
       "</div>"
      ],
      "text/plain": [
       "       UF_VENDA MUNICIPIO_VENDA  \\\n",
       "0            AC      ACRELÂNDIA   \n",
       "1            AC      ACRELÂNDIA   \n",
       "2            AC      ACRELÂNDIA   \n",
       "3            AC      ACRELÂNDIA   \n",
       "4            AC      ACRELÂNDIA   \n",
       "...         ...             ...   \n",
       "502361       TO         XAMBIOÁ   \n",
       "502362       TO         XAMBIOÁ   \n",
       "502363       TO         XAMBIOÁ   \n",
       "502364       TO         XAMBIOÁ   \n",
       "502365       TO         XAMBIOÁ   \n",
       "\n",
       "                                          PRINCIPIO_ATIVO  QTD_VENDIDA  \n",
       "0                                              ALPRAZOLAM            7  \n",
       "1                                             AMOXICILINA           41  \n",
       "2                   AMOXICILINA + CLAVULANATO DE POTÁSSIO           29  \n",
       "3                               AMOXICILINA TRI-HIDRATADA           19  \n",
       "4       AMOXICILINA TRI-HIDRATADA + CLARITROMICINA + E...            2  \n",
       "...                                                   ...          ...  \n",
       "502361           SUCCINATO DE DESVENLAFAXINA MONOIDRATADO            4  \n",
       "502362                              SULFADIAZINA DE PRATA            1  \n",
       "502363                      SULFAMETOXAZOL + TRIMETOPRIMA           12  \n",
       "502364                                        TOBRAMICINA            4  \n",
       "502365               ÁCIDO VALPRÓICO + VALPROATO DE SÓDIO            3  \n",
       "\n",
       "[502366 rows x 4 columns]"
      ]
     },
     "execution_count": 23,
     "metadata": {},
     "output_type": "execute_result"
    }
   ],
   "source": [
    "juncao_1"
   ]
  },
  {
   "cell_type": "code",
   "execution_count": 24,
   "metadata": {},
   "outputs": [
    {
     "data": {
      "text/plain": [
       "1440990"
      ]
     },
     "execution_count": 24,
     "metadata": {},
     "output_type": "execute_result"
    }
   ],
   "source": [
    "juncao_1[\"QTD_VENDIDA\"].max()"
   ]
  },
  {
   "cell_type": "code",
   "execution_count": 25,
   "metadata": {},
   "outputs": [
    {
     "data": {
      "text/plain": [
       "UF_VENDA                                   RS\n",
       "MUNICIPIO_VENDA                   TUPANCIRETÃ\n",
       "PRINCIPIO_ATIVO    HEMIFUMARATO DE QUETIAPINA\n",
       "QTD_VENDIDA                           1440990\n",
       "Name: 380757, dtype: object"
      ]
     },
     "execution_count": 25,
     "metadata": {},
     "output_type": "execute_result"
    }
   ],
   "source": [
    "idmax = juncao_1[\"QTD_VENDIDA\"].idxmax()\n",
    "juncao_1.loc[idmax]"
   ]
  },
  {
   "attachments": {},
   "cell_type": "markdown",
   "metadata": {},
   "source": [
    "# Geral\n",
    "* Principais principios ativos do pais (QTD TOTAL / Principio)\n",
    "* Faixa etaria dos compradores (20 - 30 - 40..) / medicamento mais comprado\n",
    "* Estado que mais vende medicamentos \n",
    "\n",
    "* Municipios que mais vende medicamentos / estado\n",
    "* Principais principios ativos por estado\n",
    "* Faixa etaria dos compradores (20 - 30 - 40..) / medicamento mais comprado\n",
    "\n"
   ]
  },
  {
   "cell_type": "code",
   "execution_count": 26,
   "metadata": {},
   "outputs": [],
   "source": [
    "filtro_2 = juncao_1.query(\"UF_VENDA == 'SP'\")"
   ]
  },
  {
   "cell_type": "code",
   "execution_count": 27,
   "metadata": {},
   "outputs": [
    {
     "data": {
      "text/html": [
       "<div>\n",
       "<style scoped>\n",
       "    .dataframe tbody tr th:only-of-type {\n",
       "        vertical-align: middle;\n",
       "    }\n",
       "\n",
       "    .dataframe tbody tr th {\n",
       "        vertical-align: top;\n",
       "    }\n",
       "\n",
       "    .dataframe thead th {\n",
       "        text-align: right;\n",
       "    }\n",
       "</style>\n",
       "<table border=\"1\" class=\"dataframe\">\n",
       "  <thead>\n",
       "    <tr style=\"text-align: right;\">\n",
       "      <th></th>\n",
       "      <th>UF_VENDA</th>\n",
       "      <th>MUNICIPIO_VENDA</th>\n",
       "      <th>PRINCIPIO_ATIVO</th>\n",
       "      <th>QTD_VENDIDA</th>\n",
       "    </tr>\n",
       "  </thead>\n",
       "  <tbody>\n",
       "    <tr>\n",
       "      <th>420720</th>\n",
       "      <td>SP</td>\n",
       "      <td>ADAMANTINA</td>\n",
       "      <td>ACETATO DE RETINOL + AMINOÁCIDOS + CLORANFENIC...</td>\n",
       "      <td>15</td>\n",
       "    </tr>\n",
       "    <tr>\n",
       "      <th>420721</th>\n",
       "      <td>SP</td>\n",
       "      <td>ADAMANTINA</td>\n",
       "      <td>ACETONIDA DE TRIANCINOLONA + GRAMICIDINA + NIS...</td>\n",
       "      <td>1</td>\n",
       "    </tr>\n",
       "    <tr>\n",
       "      <th>420722</th>\n",
       "      <td>SP</td>\n",
       "      <td>ADAMANTINA</td>\n",
       "      <td>ADAPALENO + FOSFATO DE CLINDAMICINA</td>\n",
       "      <td>1</td>\n",
       "    </tr>\n",
       "    <tr>\n",
       "      <th>420723</th>\n",
       "      <td>SP</td>\n",
       "      <td>ADAMANTINA</td>\n",
       "      <td>AGOMELATINA</td>\n",
       "      <td>1</td>\n",
       "    </tr>\n",
       "    <tr>\n",
       "      <th>420724</th>\n",
       "      <td>SP</td>\n",
       "      <td>ADAMANTINA</td>\n",
       "      <td>ALPRAZOLAM</td>\n",
       "      <td>752</td>\n",
       "    </tr>\n",
       "    <tr>\n",
       "      <th>...</th>\n",
       "      <td>...</td>\n",
       "      <td>...</td>\n",
       "      <td>...</td>\n",
       "      <td>...</td>\n",
       "    </tr>\n",
       "    <tr>\n",
       "      <th>497129</th>\n",
       "      <td>SP</td>\n",
       "      <td>ÓLEO</td>\n",
       "      <td>HIDROCORTISONA + SULFATO DE NEOMICINA + SULFAT...</td>\n",
       "      <td>1</td>\n",
       "    </tr>\n",
       "    <tr>\n",
       "      <th>497130</th>\n",
       "      <td>SP</td>\n",
       "      <td>ÓLEO</td>\n",
       "      <td>LEVETIRACETAM</td>\n",
       "      <td>8</td>\n",
       "    </tr>\n",
       "    <tr>\n",
       "      <th>497131</th>\n",
       "      <td>SP</td>\n",
       "      <td>ÓLEO</td>\n",
       "      <td>NORFLOXACINO</td>\n",
       "      <td>1</td>\n",
       "    </tr>\n",
       "    <tr>\n",
       "      <th>497132</th>\n",
       "      <td>SP</td>\n",
       "      <td>ÓLEO</td>\n",
       "      <td>OXALATO DE ESCITALOPRAM</td>\n",
       "      <td>1</td>\n",
       "    </tr>\n",
       "    <tr>\n",
       "      <th>497133</th>\n",
       "      <td>SP</td>\n",
       "      <td>ÓLEO</td>\n",
       "      <td>PREGABALINA</td>\n",
       "      <td>10</td>\n",
       "    </tr>\n",
       "  </tbody>\n",
       "</table>\n",
       "<p>76414 rows × 4 columns</p>\n",
       "</div>"
      ],
      "text/plain": [
       "       UF_VENDA MUNICIPIO_VENDA  \\\n",
       "420720       SP      ADAMANTINA   \n",
       "420721       SP      ADAMANTINA   \n",
       "420722       SP      ADAMANTINA   \n",
       "420723       SP      ADAMANTINA   \n",
       "420724       SP      ADAMANTINA   \n",
       "...         ...             ...   \n",
       "497129       SP            ÓLEO   \n",
       "497130       SP            ÓLEO   \n",
       "497131       SP            ÓLEO   \n",
       "497132       SP            ÓLEO   \n",
       "497133       SP            ÓLEO   \n",
       "\n",
       "                                          PRINCIPIO_ATIVO  QTD_VENDIDA  \n",
       "420720  ACETATO DE RETINOL + AMINOÁCIDOS + CLORANFENIC...           15  \n",
       "420721  ACETONIDA DE TRIANCINOLONA + GRAMICIDINA + NIS...            1  \n",
       "420722                ADAPALENO + FOSFATO DE CLINDAMICINA            1  \n",
       "420723                                        AGOMELATINA            1  \n",
       "420724                                         ALPRAZOLAM          752  \n",
       "...                                                   ...          ...  \n",
       "497129  HIDROCORTISONA + SULFATO DE NEOMICINA + SULFAT...            1  \n",
       "497130                                      LEVETIRACETAM            8  \n",
       "497131                                       NORFLOXACINO            1  \n",
       "497132                            OXALATO DE ESCITALOPRAM            1  \n",
       "497133                                        PREGABALINA           10  \n",
       "\n",
       "[76414 rows x 4 columns]"
      ]
     },
     "execution_count": 27,
     "metadata": {},
     "output_type": "execute_result"
    }
   ],
   "source": [
    "filtro_2"
   ]
  },
  {
   "cell_type": "code",
   "execution_count": 28,
   "metadata": {},
   "outputs": [],
   "source": [
    "soma = filtro_2.groupby([\"MUNICIPIO_VENDA\", \"PRINCIPIO_ATIVO\"])[\"QTD_VENDIDA\"].sum()"
   ]
  },
  {
   "cell_type": "code",
   "execution_count": 36,
   "metadata": {},
   "outputs": [
    {
     "data": {
      "text/plain": [
       "MUNICIPIO_VENDA  PRINCIPIO_ATIVO                                                            \n",
       "ADAMANTINA       ACETATO DE RETINOL + AMINOÁCIDOS + CLORANFENICOL + METIONINA (11 C)             15\n",
       "                 ACETONIDA DE TRIANCINOLONA + GRAMICIDINA + NISTATINA + SULFATO DE NEOMICINA      1\n",
       "                 ADAPALENO + FOSFATO DE CLINDAMICINA                                              1\n",
       "                 AGOMELATINA                                                                      1\n",
       "                 ALPRAZOLAM                                                                     752\n",
       "                                                                                               ... \n",
       "ÓLEO             HIDROCORTISONA + SULFATO DE NEOMICINA + SULFATO DE POLIMIXINA B                  1\n",
       "                 LEVETIRACETAM                                                                    8\n",
       "                 NORFLOXACINO                                                                     1\n",
       "                 OXALATO DE ESCITALOPRAM                                                          1\n",
       "                 PREGABALINA                                                                     10\n",
       "Name: QTD_VENDIDA, Length: 76414, dtype: int64"
      ]
     },
     "execution_count": 36,
     "metadata": {},
     "output_type": "execute_result"
    }
   ],
   "source": [
    "soma"
   ]
  },
  {
   "cell_type": "code",
   "execution_count": 38,
   "metadata": {},
   "outputs": [],
   "source": [
    "soma = soma.reset_index()"
   ]
  },
  {
   "cell_type": "code",
   "execution_count": 47,
   "metadata": {},
   "outputs": [
    {
     "data": {
      "text/html": [
       "<div>\n",
       "<style scoped>\n",
       "    .dataframe tbody tr th:only-of-type {\n",
       "        vertical-align: middle;\n",
       "    }\n",
       "\n",
       "    .dataframe tbody tr th {\n",
       "        vertical-align: top;\n",
       "    }\n",
       "\n",
       "    .dataframe thead th {\n",
       "        text-align: right;\n",
       "    }\n",
       "</style>\n",
       "<table border=\"1\" class=\"dataframe\">\n",
       "  <thead>\n",
       "    <tr style=\"text-align: right;\">\n",
       "      <th></th>\n",
       "      <th>MUNICIPIO_VENDA</th>\n",
       "      <th>PRINCIPIO_ATIVO</th>\n",
       "      <th>QTD_VENDIDA</th>\n",
       "    </tr>\n",
       "  </thead>\n",
       "  <tbody>\n",
       "    <tr>\n",
       "      <th>0</th>\n",
       "      <td>ADAMANTINA</td>\n",
       "      <td>ACETATO DE RETINOL + AMINOÁCIDOS + CLORANFENIC...</td>\n",
       "      <td>15</td>\n",
       "    </tr>\n",
       "    <tr>\n",
       "      <th>1</th>\n",
       "      <td>ADAMANTINA</td>\n",
       "      <td>ACETONIDA DE TRIANCINOLONA + GRAMICIDINA + NIS...</td>\n",
       "      <td>1</td>\n",
       "    </tr>\n",
       "    <tr>\n",
       "      <th>2</th>\n",
       "      <td>ADAMANTINA</td>\n",
       "      <td>ADAPALENO + FOSFATO DE CLINDAMICINA</td>\n",
       "      <td>1</td>\n",
       "    </tr>\n",
       "    <tr>\n",
       "      <th>3</th>\n",
       "      <td>ADAMANTINA</td>\n",
       "      <td>AGOMELATINA</td>\n",
       "      <td>1</td>\n",
       "    </tr>\n",
       "    <tr>\n",
       "      <th>4</th>\n",
       "      <td>ADAMANTINA</td>\n",
       "      <td>ALPRAZOLAM</td>\n",
       "      <td>752</td>\n",
       "    </tr>\n",
       "    <tr>\n",
       "      <th>...</th>\n",
       "      <td>...</td>\n",
       "      <td>...</td>\n",
       "      <td>...</td>\n",
       "    </tr>\n",
       "    <tr>\n",
       "      <th>76409</th>\n",
       "      <td>ÓLEO</td>\n",
       "      <td>HIDROCORTISONA + SULFATO DE NEOMICINA + SULFAT...</td>\n",
       "      <td>1</td>\n",
       "    </tr>\n",
       "    <tr>\n",
       "      <th>76410</th>\n",
       "      <td>ÓLEO</td>\n",
       "      <td>LEVETIRACETAM</td>\n",
       "      <td>8</td>\n",
       "    </tr>\n",
       "    <tr>\n",
       "      <th>76411</th>\n",
       "      <td>ÓLEO</td>\n",
       "      <td>NORFLOXACINO</td>\n",
       "      <td>1</td>\n",
       "    </tr>\n",
       "    <tr>\n",
       "      <th>76412</th>\n",
       "      <td>ÓLEO</td>\n",
       "      <td>OXALATO DE ESCITALOPRAM</td>\n",
       "      <td>1</td>\n",
       "    </tr>\n",
       "    <tr>\n",
       "      <th>76413</th>\n",
       "      <td>ÓLEO</td>\n",
       "      <td>PREGABALINA</td>\n",
       "      <td>10</td>\n",
       "    </tr>\n",
       "  </tbody>\n",
       "</table>\n",
       "<p>76414 rows × 3 columns</p>\n",
       "</div>"
      ],
      "text/plain": [
       "      MUNICIPIO_VENDA                                    PRINCIPIO_ATIVO  \\\n",
       "0          ADAMANTINA  ACETATO DE RETINOL + AMINOÁCIDOS + CLORANFENIC...   \n",
       "1          ADAMANTINA  ACETONIDA DE TRIANCINOLONA + GRAMICIDINA + NIS...   \n",
       "2          ADAMANTINA                ADAPALENO + FOSFATO DE CLINDAMICINA   \n",
       "3          ADAMANTINA                                        AGOMELATINA   \n",
       "4          ADAMANTINA                                         ALPRAZOLAM   \n",
       "...               ...                                                ...   \n",
       "76409            ÓLEO  HIDROCORTISONA + SULFATO DE NEOMICINA + SULFAT...   \n",
       "76410            ÓLEO                                      LEVETIRACETAM   \n",
       "76411            ÓLEO                                       NORFLOXACINO   \n",
       "76412            ÓLEO                            OXALATO DE ESCITALOPRAM   \n",
       "76413            ÓLEO                                        PREGABALINA   \n",
       "\n",
       "       QTD_VENDIDA  \n",
       "0               15  \n",
       "1                1  \n",
       "2                1  \n",
       "3                1  \n",
       "4              752  \n",
       "...            ...  \n",
       "76409            1  \n",
       "76410            8  \n",
       "76411            1  \n",
       "76412            1  \n",
       "76413           10  \n",
       "\n",
       "[76414 rows x 3 columns]"
      ]
     },
     "execution_count": 47,
     "metadata": {},
     "output_type": "execute_result"
    }
   ],
   "source": [
    "soma"
   ]
  },
  {
   "cell_type": "code",
   "execution_count": 48,
   "metadata": {},
   "outputs": [
    {
     "data": {
      "text/plain": [
       "MUNICIPIO_VENDA  PRINCIPIO_ATIVO                                                              QTD_VENDIDA\n",
       "ADAMANTINA       ACETATO DE RETINOL + AMINOÁCIDOS + CLORANFENICOL + METIONINA (11 C)          15             1\n",
       "                 ACETONIDA DE TRIANCINOLONA + GRAMICIDINA + NISTATINA + SULFATO DE NEOMICINA  1              1\n",
       "                 ADAPALENO + FOSFATO DE CLINDAMICINA                                          1              1\n",
       "                 AGOMELATINA                                                                  1              1\n",
       "                 ALPRAZOLAM                                                                   752            1\n",
       "                                                                                                            ..\n",
       "ÓLEO             HIDROCORTISONA + SULFATO DE NEOMICINA + SULFATO DE POLIMIXINA B              1              1\n",
       "                 LEVETIRACETAM                                                                8              1\n",
       "                 NORFLOXACINO                                                                 1              1\n",
       "                 OXALATO DE ESCITALOPRAM                                                      1              1\n",
       "                 PREGABALINA                                                                  10             1\n",
       "Length: 76414, dtype: int64"
      ]
     },
     "execution_count": 48,
     "metadata": {},
     "output_type": "execute_result"
    }
   ],
   "source": [
    "soma.groupby([\"MUNICIPIO_VENDA\", \"PRINCIPIO_ATIVO\"]).value_counts()"
   ]
  },
  {
   "cell_type": "code",
   "execution_count": 49,
   "metadata": {},
   "outputs": [
    {
     "data": {
      "text/plain": [
       "722170"
      ]
     },
     "execution_count": 49,
     "metadata": {},
     "output_type": "execute_result"
    }
   ],
   "source": [
    "soma[\"QTD_VENDIDA\"].max()\n"
   ]
  },
  {
   "cell_type": "code",
   "execution_count": 50,
   "metadata": {},
   "outputs": [
    {
     "data": {
      "text/plain": [
       "64605"
      ]
     },
     "execution_count": 50,
     "metadata": {},
     "output_type": "execute_result"
    }
   ],
   "source": [
    "soma[\"QTD_VENDIDA\"].idxmax()"
   ]
  },
  {
   "cell_type": "code",
   "execution_count": 42,
   "metadata": {},
   "outputs": [
    {
     "data": {
      "text/plain": [
       "722170"
      ]
     },
     "execution_count": 42,
     "metadata": {},
     "output_type": "execute_result"
    }
   ],
   "source": [
    "soma[\"QTD_VENDIDA\"].max()"
   ]
  },
  {
   "cell_type": "code",
   "execution_count": 43,
   "metadata": {},
   "outputs": [
    {
     "ename": "TypeError",
     "evalue": "reduction operation 'argmax' not allowed for this dtype",
     "output_type": "error",
     "traceback": [
      "\u001b[1;31m---------------------------------------------------------------------------\u001b[0m",
      "\u001b[1;31mTypeError\u001b[0m                                 Traceback (most recent call last)",
      "Cell \u001b[1;32mIn[43], line 1\u001b[0m\n\u001b[1;32m----> 1\u001b[0m \u001b[43msoma\u001b[49m\u001b[38;5;241;43m.\u001b[39;49m\u001b[43midxmax\u001b[49m\u001b[43m(\u001b[49m\u001b[43m)\u001b[49m\n",
      "File \u001b[1;32mC:\\ProgramData\\Anaconda3\\lib\\site-packages\\pandas\\core\\frame.py:10300\u001b[0m, in \u001b[0;36mDataFrame.idxmax\u001b[1;34m(self, axis, skipna)\u001b[0m\n\u001b[0;32m  <a href='file:///c%3A/ProgramData/Anaconda3/lib/site-packages/pandas/core/frame.py?line=10237'>10238</a>\u001b[0m \u001b[39m\"\"\"\u001b[39;00m\n\u001b[0;32m  <a href='file:///c%3A/ProgramData/Anaconda3/lib/site-packages/pandas/core/frame.py?line=10238'>10239</a>\u001b[0m \u001b[39mReturn index of first occurrence of maximum over requested axis.\u001b[39;00m\n\u001b[0;32m  <a href='file:///c%3A/ProgramData/Anaconda3/lib/site-packages/pandas/core/frame.py?line=10239'>10240</a>\u001b[0m \n\u001b[1;32m   (...)\u001b[0m\n\u001b[0;32m  <a href='file:///c%3A/ProgramData/Anaconda3/lib/site-packages/pandas/core/frame.py?line=10295'>10296</a>\u001b[0m \u001b[39mdtype: object\u001b[39;00m\n\u001b[0;32m  <a href='file:///c%3A/ProgramData/Anaconda3/lib/site-packages/pandas/core/frame.py?line=10296'>10297</a>\u001b[0m \u001b[39m\"\"\"\u001b[39;00m\n\u001b[0;32m  <a href='file:///c%3A/ProgramData/Anaconda3/lib/site-packages/pandas/core/frame.py?line=10297'>10298</a>\u001b[0m axis \u001b[39m=\u001b[39m \u001b[39mself\u001b[39m\u001b[39m.\u001b[39m_get_axis_number(axis)\n\u001b[1;32m> <a href='file:///c%3A/ProgramData/Anaconda3/lib/site-packages/pandas/core/frame.py?line=10299'>10300</a>\u001b[0m res \u001b[39m=\u001b[39m \u001b[39mself\u001b[39;49m\u001b[39m.\u001b[39;49m_reduce(\n\u001b[0;32m  <a href='file:///c%3A/ProgramData/Anaconda3/lib/site-packages/pandas/core/frame.py?line=10300'>10301</a>\u001b[0m     nanops\u001b[39m.\u001b[39;49mnanargmax, \u001b[39m\"\u001b[39;49m\u001b[39margmax\u001b[39;49m\u001b[39m\"\u001b[39;49m, axis\u001b[39m=\u001b[39;49maxis, skipna\u001b[39m=\u001b[39;49mskipna, numeric_only\u001b[39m=\u001b[39;49m\u001b[39mFalse\u001b[39;49;00m\n\u001b[0;32m  <a href='file:///c%3A/ProgramData/Anaconda3/lib/site-packages/pandas/core/frame.py?line=10301'>10302</a>\u001b[0m )\n\u001b[0;32m  <a href='file:///c%3A/ProgramData/Anaconda3/lib/site-packages/pandas/core/frame.py?line=10302'>10303</a>\u001b[0m indices \u001b[39m=\u001b[39m res\u001b[39m.\u001b[39m_values\n\u001b[0;32m  <a href='file:///c%3A/ProgramData/Anaconda3/lib/site-packages/pandas/core/frame.py?line=10304'>10305</a>\u001b[0m \u001b[39m# indices will always be np.ndarray since axis is not None and\u001b[39;00m\n\u001b[0;32m  <a href='file:///c%3A/ProgramData/Anaconda3/lib/site-packages/pandas/core/frame.py?line=10305'>10306</a>\u001b[0m \u001b[39m# values is a 2d array for DataFrame\u001b[39;00m\n\u001b[0;32m  <a href='file:///c%3A/ProgramData/Anaconda3/lib/site-packages/pandas/core/frame.py?line=10306'>10307</a>\u001b[0m \u001b[39m# error: Item \"int\" of \"Union[int, Any]\" has no attribute \"__iter__\"\u001b[39;00m\n",
      "File \u001b[1;32mC:\\ProgramData\\Anaconda3\\lib\\site-packages\\pandas\\core\\frame.py:10023\u001b[0m, in \u001b[0;36mDataFrame._reduce\u001b[1;34m(self, op, name, axis, skipna, numeric_only, filter_type, **kwds)\u001b[0m\n\u001b[0;32m  <a href='file:///c%3A/ProgramData/Anaconda3/lib/site-packages/pandas/core/frame.py?line=10018'>10019</a>\u001b[0m ignore_failures \u001b[39m=\u001b[39m numeric_only \u001b[39mis\u001b[39;00m \u001b[39mNone\u001b[39;00m\n\u001b[0;32m  <a href='file:///c%3A/ProgramData/Anaconda3/lib/site-packages/pandas/core/frame.py?line=10020'>10021</a>\u001b[0m \u001b[39m# After possibly _get_data and transposing, we are now in the\u001b[39;00m\n\u001b[0;32m  <a href='file:///c%3A/ProgramData/Anaconda3/lib/site-packages/pandas/core/frame.py?line=10021'>10022</a>\u001b[0m \u001b[39m#  simple case where we can use BlockManager.reduce\u001b[39;00m\n\u001b[1;32m> <a href='file:///c%3A/ProgramData/Anaconda3/lib/site-packages/pandas/core/frame.py?line=10022'>10023</a>\u001b[0m res, _ \u001b[39m=\u001b[39m df\u001b[39m.\u001b[39;49m_mgr\u001b[39m.\u001b[39;49mreduce(blk_func, ignore_failures\u001b[39m=\u001b[39;49mignore_failures)\n\u001b[0;32m  <a href='file:///c%3A/ProgramData/Anaconda3/lib/site-packages/pandas/core/frame.py?line=10023'>10024</a>\u001b[0m out \u001b[39m=\u001b[39m df\u001b[39m.\u001b[39m_constructor(res)\u001b[39m.\u001b[39miloc[\u001b[39m0\u001b[39m]\n\u001b[0;32m  <a href='file:///c%3A/ProgramData/Anaconda3/lib/site-packages/pandas/core/frame.py?line=10024'>10025</a>\u001b[0m \u001b[39mif\u001b[39;00m out_dtype \u001b[39mis\u001b[39;00m \u001b[39mnot\u001b[39;00m \u001b[39mNone\u001b[39;00m:\n",
      "File \u001b[1;32mC:\\ProgramData\\Anaconda3\\lib\\site-packages\\pandas\\core\\internals\\managers.py:1399\u001b[0m, in \u001b[0;36mBlockManager.reduce\u001b[1;34m(self, func, ignore_failures)\u001b[0m\n\u001b[0;32m   <a href='file:///c%3A/ProgramData/Anaconda3/lib/site-packages/pandas/core/internals/managers.py?line=1396'>1397</a>\u001b[0m res_blocks: \u001b[39mlist\u001b[39m[Block] \u001b[39m=\u001b[39m []\n\u001b[0;32m   <a href='file:///c%3A/ProgramData/Anaconda3/lib/site-packages/pandas/core/internals/managers.py?line=1397'>1398</a>\u001b[0m \u001b[39mfor\u001b[39;00m blk \u001b[39min\u001b[39;00m \u001b[39mself\u001b[39m\u001b[39m.\u001b[39mblocks:\n\u001b[1;32m-> <a href='file:///c%3A/ProgramData/Anaconda3/lib/site-packages/pandas/core/internals/managers.py?line=1398'>1399</a>\u001b[0m     nbs \u001b[39m=\u001b[39m blk\u001b[39m.\u001b[39;49mreduce(func, ignore_failures)\n\u001b[0;32m   <a href='file:///c%3A/ProgramData/Anaconda3/lib/site-packages/pandas/core/internals/managers.py?line=1399'>1400</a>\u001b[0m     res_blocks\u001b[39m.\u001b[39mextend(nbs)\n\u001b[0;32m   <a href='file:///c%3A/ProgramData/Anaconda3/lib/site-packages/pandas/core/internals/managers.py?line=1401'>1402</a>\u001b[0m index \u001b[39m=\u001b[39m Index([\u001b[39mNone\u001b[39;00m])  \u001b[39m# placeholder\u001b[39;00m\n",
      "File \u001b[1;32mC:\\ProgramData\\Anaconda3\\lib\\site-packages\\pandas\\core\\internals\\blocks.py:139\u001b[0m, in \u001b[0;36mmaybe_split.<locals>.newfunc\u001b[1;34m(self, *args, **kwargs)\u001b[0m\n\u001b[0;32m    <a href='file:///c%3A/ProgramData/Anaconda3/lib/site-packages/pandas/core/internals/blocks.py?line=134'>135</a>\u001b[0m \u001b[39m@wraps\u001b[39m(meth)\n\u001b[0;32m    <a href='file:///c%3A/ProgramData/Anaconda3/lib/site-packages/pandas/core/internals/blocks.py?line=135'>136</a>\u001b[0m \u001b[39mdef\u001b[39;00m \u001b[39mnewfunc\u001b[39m(\u001b[39mself\u001b[39m, \u001b[39m*\u001b[39margs, \u001b[39m*\u001b[39m\u001b[39m*\u001b[39mkwargs) \u001b[39m-\u001b[39m\u001b[39m>\u001b[39m \u001b[39mlist\u001b[39m[Block]:\n\u001b[0;32m    <a href='file:///c%3A/ProgramData/Anaconda3/lib/site-packages/pandas/core/internals/blocks.py?line=137'>138</a>\u001b[0m     \u001b[39mif\u001b[39;00m \u001b[39mself\u001b[39m\u001b[39m.\u001b[39mndim \u001b[39m==\u001b[39m \u001b[39m1\u001b[39m \u001b[39mor\u001b[39;00m \u001b[39mself\u001b[39m\u001b[39m.\u001b[39mshape[\u001b[39m0\u001b[39m] \u001b[39m==\u001b[39m \u001b[39m1\u001b[39m:\n\u001b[1;32m--> <a href='file:///c%3A/ProgramData/Anaconda3/lib/site-packages/pandas/core/internals/blocks.py?line=138'>139</a>\u001b[0m         \u001b[39mreturn\u001b[39;00m meth(\u001b[39mself\u001b[39m, \u001b[39m*\u001b[39margs, \u001b[39m*\u001b[39m\u001b[39m*\u001b[39mkwargs)\n\u001b[0;32m    <a href='file:///c%3A/ProgramData/Anaconda3/lib/site-packages/pandas/core/internals/blocks.py?line=139'>140</a>\u001b[0m     \u001b[39melse\u001b[39;00m:\n\u001b[0;32m    <a href='file:///c%3A/ProgramData/Anaconda3/lib/site-packages/pandas/core/internals/blocks.py?line=140'>141</a>\u001b[0m         \u001b[39m# Split and operate column-by-column\u001b[39;00m\n\u001b[0;32m    <a href='file:///c%3A/ProgramData/Anaconda3/lib/site-packages/pandas/core/internals/blocks.py?line=141'>142</a>\u001b[0m         \u001b[39mreturn\u001b[39;00m \u001b[39mself\u001b[39m\u001b[39m.\u001b[39msplit_and_operate(meth, \u001b[39m*\u001b[39margs, \u001b[39m*\u001b[39m\u001b[39m*\u001b[39mkwargs)\n",
      "File \u001b[1;32mC:\\ProgramData\\Anaconda3\\lib\\site-packages\\pandas\\core\\internals\\blocks.py:1907\u001b[0m, in \u001b[0;36mObjectBlock.reduce\u001b[1;34m(self, func, ignore_failures)\u001b[0m\n\u001b[0;32m   <a href='file:///c%3A/ProgramData/Anaconda3/lib/site-packages/pandas/core/internals/blocks.py?line=1903'>1904</a>\u001b[0m \u001b[39massert\u001b[39;00m \u001b[39mself\u001b[39m\u001b[39m.\u001b[39mndim \u001b[39m==\u001b[39m \u001b[39m2\u001b[39m\n\u001b[0;32m   <a href='file:///c%3A/ProgramData/Anaconda3/lib/site-packages/pandas/core/internals/blocks.py?line=1905'>1906</a>\u001b[0m \u001b[39mtry\u001b[39;00m:\n\u001b[1;32m-> <a href='file:///c%3A/ProgramData/Anaconda3/lib/site-packages/pandas/core/internals/blocks.py?line=1906'>1907</a>\u001b[0m     res \u001b[39m=\u001b[39m func(\u001b[39mself\u001b[39;49m\u001b[39m.\u001b[39;49mvalues)\n\u001b[0;32m   <a href='file:///c%3A/ProgramData/Anaconda3/lib/site-packages/pandas/core/internals/blocks.py?line=1907'>1908</a>\u001b[0m \u001b[39mexcept\u001b[39;00m \u001b[39mTypeError\u001b[39;00m:\n\u001b[0;32m   <a href='file:///c%3A/ProgramData/Anaconda3/lib/site-packages/pandas/core/internals/blocks.py?line=1908'>1909</a>\u001b[0m     \u001b[39mif\u001b[39;00m \u001b[39mnot\u001b[39;00m ignore_failures:\n",
      "File \u001b[1;32mC:\\ProgramData\\Anaconda3\\lib\\site-packages\\pandas\\core\\frame.py:9995\u001b[0m, in \u001b[0;36mDataFrame._reduce.<locals>.blk_func\u001b[1;34m(values, axis)\u001b[0m\n\u001b[0;32m   <a href='file:///c%3A/ProgramData/Anaconda3/lib/site-packages/pandas/core/frame.py?line=9992'>9993</a>\u001b[0m     \u001b[39mreturn\u001b[39;00m values\u001b[39m.\u001b[39m_reduce(name, skipna\u001b[39m=\u001b[39mskipna, \u001b[39m*\u001b[39m\u001b[39m*\u001b[39mkwds)\n\u001b[0;32m   <a href='file:///c%3A/ProgramData/Anaconda3/lib/site-packages/pandas/core/frame.py?line=9993'>9994</a>\u001b[0m \u001b[39melse\u001b[39;00m:\n\u001b[1;32m-> <a href='file:///c%3A/ProgramData/Anaconda3/lib/site-packages/pandas/core/frame.py?line=9994'>9995</a>\u001b[0m     \u001b[39mreturn\u001b[39;00m op(values, axis\u001b[39m=\u001b[39maxis, skipna\u001b[39m=\u001b[39mskipna, \u001b[39m*\u001b[39m\u001b[39m*\u001b[39mkwds)\n",
      "File \u001b[1;32mC:\\ProgramData\\Anaconda3\\lib\\site-packages\\pandas\\core\\nanops.py:88\u001b[0m, in \u001b[0;36mdisallow.__call__.<locals>._f\u001b[1;34m(*args, **kwargs)\u001b[0m\n\u001b[0;32m     <a href='file:///c%3A/ProgramData/Anaconda3/lib/site-packages/pandas/core/nanops.py?line=85'>86</a>\u001b[0m \u001b[39mif\u001b[39;00m \u001b[39many\u001b[39m(\u001b[39mself\u001b[39m\u001b[39m.\u001b[39mcheck(obj) \u001b[39mfor\u001b[39;00m obj \u001b[39min\u001b[39;00m obj_iter):\n\u001b[0;32m     <a href='file:///c%3A/ProgramData/Anaconda3/lib/site-packages/pandas/core/nanops.py?line=86'>87</a>\u001b[0m     f_name \u001b[39m=\u001b[39m f\u001b[39m.\u001b[39m\u001b[39m__name__\u001b[39m\u001b[39m.\u001b[39mreplace(\u001b[39m\"\u001b[39m\u001b[39mnan\u001b[39m\u001b[39m\"\u001b[39m, \u001b[39m\"\u001b[39m\u001b[39m\"\u001b[39m)\n\u001b[1;32m---> <a href='file:///c%3A/ProgramData/Anaconda3/lib/site-packages/pandas/core/nanops.py?line=87'>88</a>\u001b[0m     \u001b[39mraise\u001b[39;00m \u001b[39mTypeError\u001b[39;00m(\n\u001b[0;32m     <a href='file:///c%3A/ProgramData/Anaconda3/lib/site-packages/pandas/core/nanops.py?line=88'>89</a>\u001b[0m         \u001b[39mf\u001b[39m\u001b[39m\"\u001b[39m\u001b[39mreduction operation \u001b[39m\u001b[39m'\u001b[39m\u001b[39m{\u001b[39;00mf_name\u001b[39m}\u001b[39;00m\u001b[39m'\u001b[39m\u001b[39m not allowed for this dtype\u001b[39m\u001b[39m\"\u001b[39m\n\u001b[0;32m     <a href='file:///c%3A/ProgramData/Anaconda3/lib/site-packages/pandas/core/nanops.py?line=89'>90</a>\u001b[0m     )\n\u001b[0;32m     <a href='file:///c%3A/ProgramData/Anaconda3/lib/site-packages/pandas/core/nanops.py?line=90'>91</a>\u001b[0m \u001b[39mtry\u001b[39;00m:\n\u001b[0;32m     <a href='file:///c%3A/ProgramData/Anaconda3/lib/site-packages/pandas/core/nanops.py?line=91'>92</a>\u001b[0m     \u001b[39mwith\u001b[39;00m np\u001b[39m.\u001b[39merrstate(invalid\u001b[39m=\u001b[39m\u001b[39m\"\u001b[39m\u001b[39mignore\u001b[39m\u001b[39m\"\u001b[39m):\n",
      "\u001b[1;31mTypeError\u001b[0m: reduction operation 'argmax' not allowed for this dtype"
     ]
    }
   ],
   "source": [
    "soma.)"
   ]
  },
  {
   "cell_type": "code",
   "execution_count": null,
   "metadata": {},
   "outputs": [],
   "source": []
  }
 ],
 "metadata": {
  "kernelspec": {
   "display_name": "Python 3",
   "language": "python",
   "name": "python3"
  },
  "language_info": {
   "codemirror_mode": {
    "name": "ipython",
    "version": 3
   },
   "file_extension": ".py",
   "mimetype": "text/x-python",
   "name": "python",
   "nbconvert_exporter": "python",
   "pygments_lexer": "ipython3",
   "version": "3.9.16"
  },
  "orig_nbformat": 4
 },
 "nbformat": 4,
 "nbformat_minor": 2
}
